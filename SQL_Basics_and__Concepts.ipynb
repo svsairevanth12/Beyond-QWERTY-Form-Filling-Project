{
 "cells": [
  {
   "cell_type": "markdown",
   "id": "2802a15a",
   "metadata": {},
   "source": [
    "# SQL Basics and Intermediate Concepts"
   ]
  },
  {
   "cell_type": "markdown",
   "id": "2df9f6bd",
   "metadata": {},
   "source": [
    "This notebook covers basic and intermediate SQL concepts with working examples."
   ]
  },
  {
   "cell_type": "markdown",
   "id": "e3edc468",
   "metadata": {},
   "source": [
    "## Sample Data Setup"
   ]
  },
  {
   "cell_type": "code",
   "execution_count": null,
   "id": "34878009",
   "metadata": {},
   "outputs": [],
   "source": [
    "\n",
    "-- Create sample tables\n",
    "\n",
    "-- Create employees table\n",
    "CREATE TABLE employees (\n",
    "    employee_id INT PRIMARY KEY,\n",
    "    name VARCHAR(50),\n",
    "    department_id INT,\n",
    "    salary DECIMAL(10, 2),\n",
    "    email VARCHAR(100)\n",
    ");\n",
    "\n",
    "-- Insert data into employees\n",
    "INSERT INTO employees (employee_id, name, department_id, salary, email) VALUES\n",
    "(1, 'Alice', 1, 60000, 'alice@example.com'),\n",
    "(2, 'Bob', 2, 70000, 'bob@example.com'),\n",
    "(3, 'Charlie', 1, 50000, 'charlie@example.com'),\n",
    "(4, 'David', 3, 90000, 'david@example.com'),\n",
    "(5, 'Eve', 2, 70000, 'eve@example.com');\n",
    "\n",
    "-- Create departments table\n",
    "CREATE TABLE departments (\n",
    "    department_id INT PRIMARY KEY,\n",
    "    department_name VARCHAR(50)\n",
    ");\n",
    "\n",
    "-- Insert data into departments\n",
    "INSERT INTO departments (department_id, department_name) VALUES\n",
    "(1, 'HR'),\n",
    "(2, 'Engineering'),\n",
    "(3, 'Sales');\n",
    "\n",
    "-- Create sales table\n",
    "CREATE TABLE sales (\n",
    "    sale_id INT PRIMARY KEY,\n",
    "    sale_date DATE,\n",
    "    sale_amount DECIMAL(10, 2)\n",
    ");\n",
    "\n",
    "-- Insert data into sales\n",
    "INSERT INTO sales (sale_id, sale_date, sale_amount) VALUES\n",
    "(1, '2025-01-01', 1000.00),\n",
    "(2, '2025-01-15', 2000.00),\n",
    "(3, '2025-02-01', 1500.00),\n",
    "(4, '2025-02-15', 3000.00);\n"
   ]
  },
  {
   "cell_type": "markdown",
   "id": "105b458c",
   "metadata": {},
   "source": [
    "# Basic SQL Concepts"
   ]
  },
  {
   "cell_type": "markdown",
   "id": "31f66821",
   "metadata": {},
   "source": [
    "## JOIN Types"
   ]
  },
  {
   "cell_type": "code",
   "execution_count": null,
   "id": "43219a6f",
   "metadata": {},
   "outputs": [],
   "source": [
    "\n",
    "-- Example of JOINs\n",
    "SELECT employees.name, departments.department_name\n",
    "FROM employees\n",
    "INNER JOIN departments ON employees.department_id = departments.department_id;\n"
   ]
  },
  {
   "cell_type": "markdown",
   "id": "9ce34450",
   "metadata": {},
   "source": [
    "## WHERE vs HAVING"
   ]
  },
  {
   "cell_type": "code",
   "execution_count": null,
   "id": "5f600df6",
   "metadata": {},
   "outputs": [],
   "source": [
    "\n",
    "-- Example: GROUP BY and HAVING\n",
    "SELECT department_id, COUNT(*) AS employee_count\n",
    "FROM employees\n",
    "GROUP BY department_id\n",
    "HAVING COUNT(*) > 1;\n"
   ]
  },
  {
   "cell_type": "markdown",
   "id": "a4d1992d",
   "metadata": {},
   "source": [
    "## Query to Find Duplicate Records"
   ]
  },
  {
   "cell_type": "code",
   "execution_count": null,
   "id": "ddc339fc",
   "metadata": {},
   "outputs": [],
   "source": [
    "\n",
    "-- Find duplicate records based on a column (e.g., email)\n",
    "SELECT email, COUNT(*) AS occurrences\n",
    "FROM employees\n",
    "GROUP BY email\n",
    "HAVING COUNT(*) > 1;\n"
   ]
  },
  {
   "cell_type": "markdown",
   "id": "687c66b6",
   "metadata": {},
   "source": [
    "## Retrieve Unique Values"
   ]
  },
  {
   "cell_type": "code",
   "execution_count": null,
   "id": "38818057",
   "metadata": {},
   "outputs": [],
   "source": [
    "\n",
    "-- Retrieve unique department names\n",
    "SELECT DISTINCT department_name\n",
    "FROM departments;\n"
   ]
  },
  {
   "cell_type": "markdown",
   "id": "3a942d4d",
   "metadata": {},
   "source": [
    "# Intermediate SQL"
   ]
  },
  {
   "cell_type": "markdown",
   "id": "ca4b0a48",
   "metadata": {},
   "source": [
    "## Find the Second-Highest Salary"
   ]
  },
  {
   "cell_type": "code",
   "execution_count": null,
   "id": "247618f1",
   "metadata": {},
   "outputs": [],
   "source": [
    "\n",
    "-- Second-highest salary\n",
    "SELECT MAX(salary) AS second_highest_salary\n",
    "FROM employees\n",
    "WHERE salary < (SELECT MAX(salary) FROM employees);\n"
   ]
  },
  {
   "cell_type": "markdown",
   "id": "90020ab9",
   "metadata": {},
   "source": [
    "## Common Table Expression (CTE)"
   ]
  },
  {
   "cell_type": "code",
   "execution_count": null,
   "id": "457c73b4",
   "metadata": {},
   "outputs": [],
   "source": [
    "\n",
    "-- CTE Example: List departments with more than 1 employee\n",
    "WITH employee_count AS (\n",
    "    SELECT department_id, COUNT(*) AS num_employees\n",
    "    FROM employees\n",
    "    GROUP BY department_id\n",
    ")\n",
    "SELECT *\n",
    "FROM employee_count\n",
    "WHERE num_employees > 1;\n"
   ]
  },
  {
   "cell_type": "markdown",
   "id": "b48dd45f",
   "metadata": {},
   "source": [
    "## Window Functions"
   ]
  },
  {
   "cell_type": "code",
   "execution_count": null,
   "id": "fc289228",
   "metadata": {},
   "outputs": [],
   "source": [
    "\n",
    "-- ROW_NUMBER Example\n",
    "SELECT name, department_id, ROW_NUMBER() OVER (PARTITION BY department_id ORDER BY name) AS row_num\n",
    "FROM employees;\n"
   ]
  },
  {
   "cell_type": "markdown",
   "id": "7ef53904",
   "metadata": {},
   "source": [
    "## UNION vs UNION ALL"
   ]
  },
  {
   "cell_type": "code",
   "execution_count": null,
   "id": "1f43a47f",
   "metadata": {},
   "outputs": [],
   "source": [
    "\n",
    "-- UNION vs UNION ALL Example\n",
    "SELECT department_id FROM employees\n",
    "UNION\n",
    "SELECT department_id FROM departments;\n",
    "-- UNION removes duplicates, UNION ALL includes them.\n"
   ]
  },
  {
   "cell_type": "markdown",
   "id": "a31cba63",
   "metadata": {},
   "source": [
    "## Total Sales per Month"
   ]
  },
  {
   "cell_type": "code",
   "execution_count": null,
   "id": "a139cd89",
   "metadata": {},
   "outputs": [],
   "source": [
    "\n",
    "-- Total sales per month\n",
    "SELECT MONTH(sale_date) AS month, SUM(sale_amount) AS total_sales\n",
    "FROM sales\n",
    "GROUP BY MONTH(sale_date);\n"
   ]
  }
 ],
 "metadata": {},
 "nbformat": 4,
 "nbformat_minor": 5
}
